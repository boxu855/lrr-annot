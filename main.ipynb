{
 "cells": [
  {
   "cell_type": "code",
   "execution_count": 1,
   "metadata": {},
   "outputs": [],
   "source": [
    "from importlib import reload\n",
    "import methods\n",
    "import warnings\n",
    "import pickle\n",
    "\n",
    "import pandas as pd\n",
    "from daps import *"
   ]
  },
  {
   "cell_type": "code",
   "execution_count": 2,
   "metadata": {},
   "outputs": [],
   "source": [
    "reload(methods)\n",
    "from methods import *"
   ]
  },
  {
   "cell_type": "code",
   "execution_count": 3,
   "metadata": {},
   "outputs": [],
   "source": [
    "#get the list of proteins names from the 'pdb' directory of protein structures\n",
    "\n",
    "dataset = 'nlrome'\n",
    "directory = 'pdb'\n",
    "filenames = get_files_with_ext(directory, '.pdb')\n",
    "protlist = [os.path.splitext(file)[0] for file in filenames]"
   ]
  },
  {
   "cell_type": "code",
   "execution_count": 78,
   "metadata": {},
   "outputs": [],
   "source": [
    "#save plot of regression for each protein and save LRR annotation start/end into the dictionary cutoff_d. plot_regression returns standard deviation of middle line segment in regression.\n",
    "#only can run next cell in lieu of this if already computed pickles\n",
    "\n",
    "cutoff_d = {}\n",
    "std_d = {}\n",
    "for protid in protlist:\n",
    "    preX = get_backbone_from_pdb(f'pdb/{protid}.pdb')\n",
    "    winding, m, parameters = get_regression(preX)\n",
    "    with warnings.catch_warnings():\n",
    "        warnings.simplefilter(\"ignore\", category=RuntimeWarning)\n",
    "        stddev = plot_regression(winding, parameters, m, save = True, filename = f'plot/regression/{protid}')\n",
    "        std_d[protid] = stddev\n",
    "        cutoff_d[protid] = tuple(parameters.astype('int'))\n",
    "with open('pickles/cutoff_d.pickle', 'wb') as handle:\n",
    "    pickle.dump(cutoff_d, handle)\n",
    "with open('pickles/std_d.pickle', 'wb') as handle:\n",
    "    pickle.dump(std_d, handle)    "
   ]
  },
  {
   "cell_type": "code",
   "execution_count": 4,
   "metadata": {},
   "outputs": [],
   "source": [
    "'''alternative to previous cell: load dictionary from pickles'''\n",
    "\n",
    "with open('pickles/cutoff_d.pickle', 'rb') as handle:\n",
    "    cutoff_d = pickle.load(handle)    \n",
    "with open('pickles/std_d.pickle', 'rb') as handle:\n",
    "    std_d = pickle.load(handle)    "
   ]
  },
  {
   "cell_type": "code",
   "execution_count": 6,
   "metadata": {},
   "outputs": [
    {
     "data": {
      "text/plain": [
       "(array([17., 19., 33., 14., 15., 14., 13., 10., 11.,  4.,  6.,  2.,  3.,\n",
       "         1.,  2.,  0.,  0.,  0.,  0.,  1.,  0.,  0.,  0.,  1.,  1.,  0.,\n",
       "         2.,  1.,  1.,  0.,  1.,  0.,  0.,  0.,  2.,  0.,  0.,  0.,  0.,\n",
       "         0.,  1.,  0.,  0.,  0.,  0.,  1.,  0.,  0.,  0.,  1.]),\n",
       " array([0.0491697 , 0.09330121, 0.13743271, 0.18156422, 0.22569573,\n",
       "        0.26982724, 0.31395875, 0.35809026, 0.40222176, 0.44635327,\n",
       "        0.49048478, 0.53461629, 0.5787478 , 0.6228793 , 0.66701081,\n",
       "        0.71114232, 0.75527383, 0.79940534, 0.84353685, 0.88766835,\n",
       "        0.93179986, 0.97593137, 1.02006288, 1.06419439, 1.10832589,\n",
       "        1.1524574 , 1.19658891, 1.24072042, 1.28485193, 1.32898343,\n",
       "        1.37311494, 1.41724645, 1.46137796, 1.50550947, 1.54964098,\n",
       "        1.59377248, 1.63790399, 1.6820355 , 1.72616701, 1.77029852,\n",
       "        1.81443002, 1.85856153, 1.90269304, 1.94682455, 1.99095606,\n",
       "        2.03508757, 2.07921907, 2.12335058, 2.16748209, 2.2116136 ,\n",
       "        2.25574511]),\n",
       " <BarContainer object of 50 artists>)"
      ]
     },
     "execution_count": 6,
     "metadata": {},
     "output_type": "execute_result"
    },
    {
     "data": {
      "image/png": "[encoded data removed]",
      "text/plain": [
       "<Figure size 640x480 with 1 Axes>"
      ]
     },
     "metadata": {},
     "output_type": "display_data"
    }
   ],
   "source": [
    "#visualize distribution of standard deviations to determine which regressions turned out badly and require multi-breakpoint\n",
    "plt.hist(list(std_d.values()), bins = 50)"
   ]
  },
  {
   "cell_type": "code",
   "execution_count": 7,
   "metadata": {},
   "outputs": [
    {
     "ename": "KeyboardInterrupt",
     "evalue": "",
     "output_type": "error",
     "traceback": [
      "\u001b[0;31m---------------------------------------------------------------------------\u001b[0m",
      "\u001b[0;31mKeyboardInterrupt\u001b[0m                         Traceback (most recent call last)",
      "\u001b[0;32m/var/folders/m0/rpw4gcbn5lxd8_3kt7g699rc0000gn/T/ipykernel_25738/1244819173.py\u001b[0m in \u001b[0;36m<module>\u001b[0;34m\u001b[0m\n\u001b[1;32m      5\u001b[0m         \u001b[0mpreX\u001b[0m \u001b[0;34m=\u001b[0m \u001b[0mget_backbone_from_pdb\u001b[0m\u001b[0;34m(\u001b[0m\u001b[0;34mf'pdb/{protid}.pdb'\u001b[0m\u001b[0;34m)\u001b[0m\u001b[0;34m\u001b[0m\u001b[0;34m\u001b[0m\u001b[0m\n\u001b[1;32m      6\u001b[0m         \u001b[0ma\u001b[0m\u001b[0;34m,\u001b[0m \u001b[0mb\u001b[0m \u001b[0;34m=\u001b[0m \u001b[0mcutoff_d\u001b[0m\u001b[0;34m[\u001b[0m\u001b[0mprotid\u001b[0m\u001b[0;34m]\u001b[0m\u001b[0;34m\u001b[0m\u001b[0;34m\u001b[0m\u001b[0m\n\u001b[0;32m----> 7\u001b[0;31m         \u001b[0mwinding\u001b[0m\u001b[0;34m,\u001b[0m \u001b[0mm\u001b[0m\u001b[0;34m,\u001b[0m \u001b[0mparameters\u001b[0m \u001b[0;34m=\u001b[0m \u001b[0mmulti_regression\u001b[0m\u001b[0;34m(\u001b[0m\u001b[0mpreX\u001b[0m\u001b[0;34m,\u001b[0m \u001b[0ma\u001b[0m\u001b[0;34m,\u001b[0m \u001b[0mb\u001b[0m\u001b[0;34m)\u001b[0m\u001b[0;34m\u001b[0m\u001b[0;34m\u001b[0m\u001b[0m\n\u001b[0m\u001b[1;32m      8\u001b[0m         \u001b[0mplot_regression_multi\u001b[0m\u001b[0;34m(\u001b[0m\u001b[0mwinding\u001b[0m\u001b[0;34m,\u001b[0m \u001b[0mparameters\u001b[0m\u001b[0;34m,\u001b[0m \u001b[0mm\u001b[0m\u001b[0;34m,\u001b[0m \u001b[0mfilename\u001b[0m \u001b[0;34m=\u001b[0m \u001b[0;34mf'plot/piecewise_multi/{protid}'\u001b[0m\u001b[0;34m,\u001b[0m \u001b[0msave\u001b[0m \u001b[0;34m=\u001b[0m \u001b[0;32mTrue\u001b[0m\u001b[0;34m)\u001b[0m\u001b[0;34m\u001b[0m\u001b[0;34m\u001b[0m\u001b[0m\n\u001b[1;32m      9\u001b[0m \u001b[0;31m# with open('pickles/multi_parameters.pickle', 'wb') as handle:\u001b[0m\u001b[0;34m\u001b[0m\u001b[0;34m\u001b[0m\u001b[0m\n",
      "\u001b[0;32m/Volumes/FD/repos_fd/lrr-annot/methods.py\u001b[0m in \u001b[0;36mmulti_regression\u001b[0;34m(preX, l, r)\u001b[0m\n\u001b[1;32m    257\u001b[0m         \u001b[0;32mif\u001b[0m \u001b[0mnp\u001b[0m\u001b[0;34m.\u001b[0m\u001b[0mlinalg\u001b[0m\u001b[0;34m.\u001b[0m\u001b[0mnorm\u001b[0m\u001b[0;34m(\u001b[0m\u001b[0mgradient\u001b[0m \u001b[0;34m-\u001b[0m \u001b[0mprev_grad\u001b[0m\u001b[0;34m)\u001b[0m\u001b[0;34m<\u001b[0m \u001b[0mthresh\u001b[0m \u001b[0;32mand\u001b[0m \u001b[0mi\u001b[0m \u001b[0;34m>\u001b[0m \u001b[0;36m0\u001b[0m\u001b[0;34m:\u001b[0m\u001b[0;34m\u001b[0m\u001b[0;34m\u001b[0m\u001b[0m\n\u001b[1;32m    258\u001b[0m             \u001b[0;32mbreak\u001b[0m\u001b[0;34m\u001b[0m\u001b[0;34m\u001b[0m\u001b[0m\n\u001b[0;32m--> 259\u001b[0;31m         \u001b[0mgradient\u001b[0m \u001b[0;34m=\u001b[0m \u001b[0mnp\u001b[0m\u001b[0;34m.\u001b[0m\u001b[0marray\u001b[0m\u001b[0;34m(\u001b[0m\u001b[0;34m[\u001b[0m\u001b[0mloss_multi\u001b[0m\u001b[0;34m(\u001b[0m\u001b[0mwinding\u001b[0m\u001b[0;34m,\u001b[0m \u001b[0mparameters\u001b[0m \u001b[0;34m+\u001b[0m \u001b[0md\u001b[0m\u001b[0;34m,\u001b[0m \u001b[0mm\u001b[0m\u001b[0;34m,\u001b[0m \u001b[0mpenalties\u001b[0m\u001b[0;34m)\u001b[0m \u001b[0;34m-\u001b[0m \u001b[0mpresent\u001b[0m \u001b[0;32mfor\u001b[0m \u001b[0md\u001b[0m \u001b[0;32min\u001b[0m \u001b[0mdelta\u001b[0m\u001b[0;34m]\u001b[0m\u001b[0;34m)\u001b[0m\u001b[0;34m\u001b[0m\u001b[0;34m\u001b[0m\u001b[0m\n\u001b[0m\u001b[1;32m    260\u001b[0m         \u001b[0mparameters\u001b[0m \u001b[0;34m=\u001b[0m \u001b[0mparameters\u001b[0m \u001b[0;34m-\u001b[0m \u001b[0mepsilon\u001b[0m \u001b[0;34m*\u001b[0m \u001b[0mgradient\u001b[0m\u001b[0;34m\u001b[0m\u001b[0;34m\u001b[0m\u001b[0m\n\u001b[1;32m    261\u001b[0m     \u001b[0;32mreturn\u001b[0m \u001b[0mwinding\u001b[0m\u001b[0;34m,\u001b[0m \u001b[0mm\u001b[0m\u001b[0;34m,\u001b[0m \u001b[0mparameters\u001b[0m\u001b[0;34m\u001b[0m\u001b[0;34m\u001b[0m\u001b[0m\n",
      "\u001b[0;32m/Volumes/FD/repos_fd/lrr-annot/methods.py\u001b[0m in \u001b[0;36m<listcomp>\u001b[0;34m(.0)\u001b[0m\n\u001b[1;32m    257\u001b[0m         \u001b[0;32mif\u001b[0m \u001b[0mnp\u001b[0m\u001b[0;34m.\u001b[0m\u001b[0mlinalg\u001b[0m\u001b[0;34m.\u001b[0m\u001b[0mnorm\u001b[0m\u001b[0;34m(\u001b[0m\u001b[0mgradient\u001b[0m \u001b[0;34m-\u001b[0m \u001b[0mprev_grad\u001b[0m\u001b[0;34m)\u001b[0m\u001b[0;34m<\u001b[0m \u001b[0mthresh\u001b[0m \u001b[0;32mand\u001b[0m \u001b[0mi\u001b[0m \u001b[0;34m>\u001b[0m \u001b[0;36m0\u001b[0m\u001b[0;34m:\u001b[0m\u001b[0;34m\u001b[0m\u001b[0;34m\u001b[0m\u001b[0m\n\u001b[1;32m    258\u001b[0m             \u001b[0;32mbreak\u001b[0m\u001b[0;34m\u001b[0m\u001b[0;34m\u001b[0m\u001b[0m\n\u001b[0;32m--> 259\u001b[0;31m         \u001b[0mgradient\u001b[0m \u001b[0;34m=\u001b[0m \u001b[0mnp\u001b[0m\u001b[0;34m.\u001b[0m\u001b[0marray\u001b[0m\u001b[0;34m(\u001b[0m\u001b[0;34m[\u001b[0m\u001b[0mloss_multi\u001b[0m\u001b[0;34m(\u001b[0m\u001b[0mwinding\u001b[0m\u001b[0;34m,\u001b[0m \u001b[0mparameters\u001b[0m \u001b[0;34m+\u001b[0m \u001b[0md\u001b[0m\u001b[0;34m,\u001b[0m \u001b[0mm\u001b[0m\u001b[0;34m,\u001b[0m \u001b[0mpenalties\u001b[0m\u001b[0;34m)\u001b[0m \u001b[0;34m-\u001b[0m \u001b[0mpresent\u001b[0m \u001b[0;32mfor\u001b[0m \u001b[0md\u001b[0m \u001b[0;32min\u001b[0m \u001b[0mdelta\u001b[0m\u001b[0;34m]\u001b[0m\u001b[0;34m)\u001b[0m\u001b[0;34m\u001b[0m\u001b[0;34m\u001b[0m\u001b[0m\n\u001b[0m\u001b[1;32m    260\u001b[0m         \u001b[0mparameters\u001b[0m \u001b[0;34m=\u001b[0m \u001b[0mparameters\u001b[0m \u001b[0;34m-\u001b[0m \u001b[0mepsilon\u001b[0m \u001b[0;34m*\u001b[0m \u001b[0mgradient\u001b[0m\u001b[0;34m\u001b[0m\u001b[0;34m\u001b[0m\u001b[0m\n\u001b[1;32m    261\u001b[0m     \u001b[0;32mreturn\u001b[0m \u001b[0mwinding\u001b[0m\u001b[0;34m,\u001b[0m \u001b[0mm\u001b[0m\u001b[0;34m,\u001b[0m \u001b[0mparameters\u001b[0m\u001b[0;34m\u001b[0m\u001b[0;34m\u001b[0m\u001b[0m\n",
      "\u001b[0;32m/Volumes/FD/repos_fd/lrr-annot/methods.py\u001b[0m in \u001b[0;36mloss_multi\u001b[0;34m(winding, params, slope, penalties)\u001b[0m\n\u001b[1;32m    223\u001b[0m \u001b[0;31m#loss function for 4-breakpoint regression\u001b[0m\u001b[0;34m\u001b[0m\u001b[0;34m\u001b[0m\u001b[0m\n\u001b[1;32m    224\u001b[0m \u001b[0;32mdef\u001b[0m \u001b[0mloss_multi\u001b[0m\u001b[0;34m(\u001b[0m\u001b[0mwinding\u001b[0m\u001b[0;34m,\u001b[0m \u001b[0mparams\u001b[0m\u001b[0;34m,\u001b[0m \u001b[0mslope\u001b[0m\u001b[0;34m,\u001b[0m \u001b[0mpenalties\u001b[0m\u001b[0;34m)\u001b[0m\u001b[0;34m:\u001b[0m\u001b[0;34m\u001b[0m\u001b[0;34m\u001b[0m\u001b[0m\n\u001b[0;32m--> 225\u001b[0;31m     \u001b[0msegs\u001b[0m \u001b[0;34m=\u001b[0m \u001b[0mget_segs\u001b[0m\u001b[0;34m(\u001b[0m\u001b[0mwinding\u001b[0m\u001b[0;34m,\u001b[0m \u001b[0mparams\u001b[0m\u001b[0;34m,\u001b[0m\u001b[0mslope\u001b[0m\u001b[0;34m)\u001b[0m\u001b[0;34m\u001b[0m\u001b[0;34m\u001b[0m\u001b[0m\n\u001b[0m\u001b[1;32m    226\u001b[0m     \u001b[0;32mreturn\u001b[0m \u001b[0mnp\u001b[0m\u001b[0;34m.\u001b[0m\u001b[0msum\u001b[0m\u001b[0;34m(\u001b[0m\u001b[0;34m[\u001b[0m\u001b[0mpenalties\u001b[0m\u001b[0;34m[\u001b[0m\u001b[0mii\u001b[0m\u001b[0;34m%\u001b[0m\u001b[0;36m2\u001b[0m\u001b[0;34m]\u001b[0m\u001b[0;34m*\u001b[0m\u001b[0mnp\u001b[0m\u001b[0;34m.\u001b[0m\u001b[0msum\u001b[0m\u001b[0;34m(\u001b[0m\u001b[0mseg\u001b[0m\u001b[0;34m**\u001b[0m\u001b[0;36m2\u001b[0m\u001b[0;34m)\u001b[0m \u001b[0;32mfor\u001b[0m \u001b[0mii\u001b[0m\u001b[0;34m,\u001b[0m\u001b[0mseg\u001b[0m \u001b[0;32min\u001b[0m \u001b[0menumerate\u001b[0m\u001b[0;34m(\u001b[0m\u001b[0msegs\u001b[0m\u001b[0;34m)\u001b[0m\u001b[0;34m]\u001b[0m\u001b[0;34m)\u001b[0m\u001b[0;34m\u001b[0m\u001b[0;34m\u001b[0m\u001b[0m\n\u001b[1;32m    227\u001b[0m \u001b[0;34m\u001b[0m\u001b[0m\n",
      "\u001b[0;32m/Volumes/FD/repos_fd/lrr-annot/methods.py\u001b[0m in \u001b[0;36mget_segs\u001b[0;34m(winding, params, slope)\u001b[0m\n\u001b[1;32m    216\u001b[0m                 \u001b[0mprint\u001b[0m\u001b[0;34m(\u001b[0m\u001b[0;34m(\u001b[0m\u001b[0mslope\u001b[0m\u001b[0;34m*\u001b[0m\u001b[0mnp\u001b[0m\u001b[0;34m.\u001b[0m\u001b[0marange\u001b[0m\u001b[0;34m(\u001b[0m\u001b[0ma\u001b[0m\u001b[0;34m,\u001b[0m \u001b[0mb\u001b[0m\u001b[0;34m)\u001b[0m\u001b[0;34m)\u001b[0m\u001b[0;34m)\u001b[0m\u001b[0;34m\u001b[0m\u001b[0;34m\u001b[0m\u001b[0m\n\u001b[1;32m    217\u001b[0m                 \u001b[0;32mraise\u001b[0m \u001b[0mException\u001b[0m\u001b[0;34m(\u001b[0m\u001b[0;34m)\u001b[0m\u001b[0;34m\u001b[0m\u001b[0;34m\u001b[0m\u001b[0m\n\u001b[0;32m--> 218\u001b[0;31m         \u001b[0mseg\u001b[0m \u001b[0;34m-=\u001b[0m \u001b[0mnp\u001b[0m\u001b[0;34m.\u001b[0m\u001b[0mmean\u001b[0m\u001b[0;34m(\u001b[0m\u001b[0mseg\u001b[0m\u001b[0;34m)\u001b[0m\u001b[0;34m\u001b[0m\u001b[0;34m\u001b[0m\u001b[0m\n\u001b[0m\u001b[1;32m    219\u001b[0m         \u001b[0msegs\u001b[0m\u001b[0;34m.\u001b[0m\u001b[0mappend\u001b[0m\u001b[0;34m(\u001b[0m\u001b[0mseg\u001b[0m\u001b[0;34m)\u001b[0m\u001b[0;34m\u001b[0m\u001b[0;34m\u001b[0m\u001b[0m\n\u001b[1;32m    220\u001b[0m \u001b[0;34m\u001b[0m\u001b[0m\n",
      "\u001b[0;32m<__array_function__ internals>\u001b[0m in \u001b[0;36mmean\u001b[0;34m(*args, **kwargs)\u001b[0m\n",
      "\u001b[0;32m~/opt/anaconda3/lib/python3.9/site-packages/numpy/core/fromnumeric.py\u001b[0m in \u001b[0;36mmean\u001b[0;34m(a, axis, dtype, out, keepdims, where)\u001b[0m\n\u001b[1;32m   3320\u001b[0m \u001b[0;34m\u001b[0m\u001b[0m\n\u001b[1;32m   3321\u001b[0m \u001b[0;34m\u001b[0m\u001b[0m\n\u001b[0;32m-> 3322\u001b[0;31m \u001b[0;34m@\u001b[0m\u001b[0marray_function_dispatch\u001b[0m\u001b[0;34m(\u001b[0m\u001b[0m_mean_dispatcher\u001b[0m\u001b[0;34m)\u001b[0m\u001b[0;34m\u001b[0m\u001b[0;34m\u001b[0m\u001b[0m\n\u001b[0m\u001b[1;32m   3323\u001b[0m def mean(a, axis=None, dtype=None, out=None, keepdims=np._NoValue, *,\n\u001b[1;32m   3324\u001b[0m          where=np._NoValue):\n",
      "\u001b[0;31mKeyboardInterrupt\u001b[0m: "
     ]
    }
   ],
   "source": [
    "#run 4-breakpoint regression and save plots folder\n",
    "multi_parameters = {}\n",
    "for protid in protlist:\n",
    "    if std_d[protid] > .7:\n",
    "        preX = get_backbone_from_pdb(f'pdb/{protid}.pdb')\n",
    "        a, b = cutoff_d[protid]\n",
    "        winding, m, parameters = multi_regression(preX, a, b)\n",
    "        plot_regression_multi(winding, parameters, m, filename = f'plot/piecewise_multi/{protid}', save = True)\n",
    "# with open('pickles/multi_parameters.pickle', 'wb') as handle:\n",
    "#     pickle.dump(multi_parameters, handle)"
   ]
  },
  {
   "cell_type": "code",
   "execution_count": 6,
   "metadata": {},
   "outputs": [],
   "source": [
    "#collect lrrpredictor outputs into a dictionary\n",
    "df = pd.read_csv('LRRPredictor_output/col-0-nlrome.txt', delimiter = '\\t')\n",
    "motifs_d = {}\n",
    "for protid in protlist:\n",
    "    motifs = []\n",
    "    foundProtein = False\n",
    "    for ii in range(len(df)):\n",
    "        if '.'.join(df['annotation'][ii].split('_')[1:]) == protid:\n",
    "            foundProtein = True\n",
    "        elif foundProtein:            \n",
    "            break\n",
    "        if foundProtein:\n",
    "            motifs.append(int(df['start'][ii]))\n",
    "    motifs_d[protid] = motifs"
   ]
  },
  {
   "cell_type": "code",
   "execution_count": 16,
   "metadata": {},
   "outputs": [],
   "source": [
    "#computes the discrepancy of a protein and shows plot of the grid\n",
    "\n",
    "discrep_d = {}\n",
    "\n",
    "for ii, protid in enumerate(motifs_d):\n",
    "    fileid = protid.replace(' ', '')\n",
    "    preX = get_backbone_from_pdb(f'{directory}/{fileid}.pdb')\n",
    "\n",
    "    winding, s, c, q, dx = get_winding(preX)\n",
    "    a, b = cutoff_d[protid]\n",
    "\n",
    "    motifs = motifs_d[protid]\n",
    "\n",
    "    verticals = np.array([p for p in motifs if a <= p <= b])\n",
    "    if not list(verticals):\n",
    "        continue\n",
    "    lrr_heights = winding[verticals]\n",
    "    k = len(lrr_heights)\n",
    "\n",
    "    u = 1 + np.zeros(k)\n",
    "    v = np.arange(0.0, k)\n",
    "\n",
    "    v -= (u @ v) / (u @ u) * u\n",
    "    z = (lrr_heights @ u) / (u @ u) * u + (lrr_heights @ v) / (v @ v) * v\n",
    "    diff = np.sign(np.mean(z[1:] - z[:-1]))\n",
    "    projected = diff * v + (z @ u) / (u @ u) * u\n",
    "    discrep = np.mean((projected - lrr_heights) ** 2)\n",
    "    # hs = np.arange(int(min(winding[a:b])) + g, int(max(winding[a:b]))) + g\n",
    "    hs = projected\n",
    "    # vs = np.array(motifs_d[protid])\n",
    "    vs = np.array(verticals)\n",
    "    ext_vs = set(motifs_d[protid]) - set(vs)\n",
    "    # plt.hlines(hs, xmin = a, xmax = b, color = 'purple', ls = '--')\n",
    "\n",
    "    discrep_d[protid] = discrep\n",
    "\n",
    "    continue\n",
    "\n",
    "    plt.hlines(projected, xmin = a, xmax = b, color = 'purple', ls = '--')\n",
    "\n",
    "    for vert in vs:\n",
    "        plt.axvline(vert, color = 'orange', ls = '--')\n",
    "    for vert in ext_vs:\n",
    "        plt.axvline(vert, color = 'red', ls = '--')\n",
    "        \n",
    "    plt.axvline(a, color = 'black')\n",
    "    plt.axvline(b, color = 'black')\n",
    "    plt.plot(winding)\n",
    "    plt.title(f'LRR Discrep: {discrep:.6}')\n",
    "    plt.show()\n",
    "\n",
    "plt.hist(discrep_d.values(), bins = 100)\n",
    "\n",
    "with open('pickles/discrep_d_athaliana.pickle', 'wb') as handle:\n",
    "    pickle.dump(discrep_d, handle)    "
   ]
  },
  {
   "cell_type": "code",
   "execution_count": 11,
   "metadata": {},
   "outputs": [],
   "source": [
    "#compute graph laplacian eigenvectors\n",
    "\n",
    "for ii, protid in enumerate(motifs_d):\n",
    "    fileid = protid\n",
    "\n",
    "    motifs = motifs_d[protid]\n",
    "\n",
    "    a, b = cutoff_d[protid]\n",
    "    #truncate protein\n",
    "    X = get_backbone_from_pdb(f'pdb/{protid}.pdb')[a:b]\n",
    "    \n",
    "    period = 25\n",
    "\n",
    "    #truncate protein\n",
    "    X = get_curv_vectors(X, MaxOrder=1, sigma=1)[1]\n",
    "    # np.save(make_path('npy', 'nlrome_X', '%s.npy'%tairid), X)        \n",
    "    #print out the number of residues in the chain, and print the locations of the LRR motif residues\n",
    "    D = get_csm(X, X)\n",
    "    # Clean up the matrix a bit by doing a sliding window of length roughly the period\n",
    "    D = sliding_window(D, period)\n",
    "    # Clean up the matrix even more by binarizing it with nearest neighbors\n",
    "    B = csm_to_binary_mutual(D, 50)\n",
    "    #B = B[0:400, 0:400]\n",
    "    v = getUnweightedLaplacianEigsDense(1-B)\n",
    "\n",
    "    plt.figure(figsize=(18, 6))\n",
    "    plt.subplot(131)\n",
    "    plt.imshow(D, cmap='magma_r')\n",
    "    plt.title(\"Self-Similarity Matrix\")\n",
    "    plt.subplot(132)\n",
    "    plt.imshow(B)\n",
    "    plt.title(\"Binarized Self-Similarity Matrix\")\n",
    "    plt.subplot(133)\n",
    "    plt.imshow(v[:, 0:29], aspect='auto', cmap='magma_r', interpolation='none')\n",
    "    for motif in motifs:\n",
    "        motif -= a\n",
    "        if motif in range(v.shape[0]):\n",
    "            plt.axhline(motif)\n",
    "    plt.title(\"Eigenvectors of Unweighted Graph Laplacian\")\n",
    "    plt.savefig(make_path('plot','eigenmatrix_nlrome', '%s.png'%protid))\n",
    "    plt.close()\n",
    "    np.save(make_path('npy', 'eigenmatrix_nlrome', '%s.npy'%protid), v)\n",
    "    continue\n",
    "    plt.show()"
   ]
  },
  {
   "cell_type": "code",
   "execution_count": 12,
   "metadata": {},
   "outputs": [],
   "source": [
    "for protid in motifs_d:\n",
    "    motifs = motifs_d[protid]\n",
    "    if len(motifs)<2:\n",
    "        continue\n",
    "    period = 25\n",
    "    v = np.load(f'npy/eigenmatrix_{dataset}/%s.npy'%protid)\n",
    "    s = v[:,0]\n",
    "    c = v[:,1]\n",
    "    sf = detrend_timeseries(s, period)\n",
    "    cf = detrend_timeseries(c, period)\n",
    "\n",
    "    theta = np.arctan2(cf, sf)\n",
    "    # plt.figure(figsize=(12, 4))\n",
    "    # plt.plot(theta, label=f'{eig1}, {eig2}')\n",
    "\n",
    "    # phases = []\n",
    "    # for res in motifs_l:\n",
    "    #     if res in range(len(theta)):\n",
    "    #         plt.plot(res, theta[res], 'bo')\n",
    "    #         phases.append(theta[res])\n",
    "\n",
    "    plt.figure(figsize=(12, 4))\n",
    "    plt.title(f\"Estimated phase for LRR of {protid}\")\n",
    "    plt.ylabel('Angle')\n",
    "    plt.xlabel('LRR coil residue number')\n",
    "\n",
    "    plt.plot(theta)\n",
    "\n",
    "    for res in motifs:\n",
    "        res -= a\n",
    "        if res in range(len(theta)):\n",
    "            plt.plot(res, theta[res], 'ro')\n",
    "    # plt.show()\n",
    "    # break\n",
    "\n",
    "    plt.savefig(make_path('plot', f'phase_estimation_{dataset}', f'{protid}.png'))\n",
    "    plt.close()\n"
   ]
  },
  {
   "cell_type": "code",
   "execution_count": 14,
   "metadata": {},
   "outputs": [],
   "source": [
    "#sliding window of l2 distance. need to move some of this to methods.py\n",
    "for protid in motifs_d:\n",
    "    v = np.load(f'npy/eigenmatrix_{dataset}/%s.npy'%protid)\n",
    "\n",
    "    s = v[:,0]\n",
    "    c = v[:,1]\n",
    "\n",
    "    winding, swl2, slope = get_winding_swl2(s,c)\n",
    "    # bins = np.linspace(min(swl2), max(swl2), 100)\n",
    "    # scores = np.digitize(swl2, bins, 100)/100\n",
    "\n",
    "    offset = np.mean(winding - slope*np.arange(len(winding)))\n",
    "\n",
    "    plt.figure(figsize=(12, 6))\n",
    "    plt.subplot(311)\n",
    "    plt.plot(s)\n",
    "    plt.plot(c)\n",
    "    plt.title(\"Leading eigenvectors for %s\"%protid)\n",
    "    plt.subplot(312)\n",
    "    plt.plot(winding)\n",
    "    plt.plot(slope*np.arange(len(winding))-offset, c = 'grey', linestyle = '--')\n",
    "    plt.title(\"Winding number vs median slope\")\n",
    "    plt.subplot(313)\n",
    "    plt.plot(swl2)\n",
    "    plt.title(\"Sliding window L2 distance\")    \n",
    "    plt.tight_layout()\n",
    "\n",
    "    # plt.show()\n",
    "\n",
    "    plt.savefig(make_path('plot', 'swl2', f'{protid}.png'))\n",
    "    plt.close()\n"
   ]
  }
 ],
 "metadata": {
  "kernelspec": {
   "display_name": "base",
   "language": "python",
   "name": "python3"
  },
  "language_info": {
   "codemirror_mode": {
    "name": "ipython",
    "version": 3
   },
   "file_extension": ".py",
   "mimetype": "text/x-python",
   "name": "python",
   "nbconvert_exporter": "python",
   "pygments_lexer": "ipython3",
   "version": "3.9.13"
  },
  "orig_nbformat": 4
 },
 "nbformat": 4,
 "nbformat_minor": 2
}
