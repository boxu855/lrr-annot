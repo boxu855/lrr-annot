{
 "cells": [
  {
   "cell_type": "code",
   "execution_count": 68,
   "metadata": {},
   "outputs": [],
   "source": [
    "from importlib import reload\n",
    "import methods\n",
    "import warnings\n",
    "import pickle"
   ]
  },
  {
   "cell_type": "code",
   "execution_count": 85,
   "metadata": {},
   "outputs": [],
   "source": [
    "reload(methods)\n",
    "from methods import *"
   ]
  },
  {
   "cell_type": "code",
   "execution_count": 58,
   "metadata": {},
   "outputs": [],
   "source": [
    "#get the list of proteins names from the 'pdb' directory of protein structures\n",
    "\n",
    "directory = 'pdb'\n",
    "filenames = get_files_with_ext(directory, '.pdb')\n",
    "protlist = [os.path.splitext(file)[0] for file in filenames]"
   ]
  },
  {
   "cell_type": "code",
   "execution_count": 78,
   "metadata": {},
   "outputs": [],
   "source": [
    "#save plot of regression for each protein and save LRR annotation start/end into the dictionary cutoff_d. plot_regression returns standard deviation of middle line segment in regression.\n",
    "cutoff_d = {}\n",
    "std_d = {}\n",
    "for protid in protlist:\n",
    "    preX = get_backbone_from_pdb(f'pdb/{protid}.pdb')\n",
    "    winding, m, parameters = get_regression(preX)\n",
    "    with warnings.catch_warnings():\n",
    "        warnings.simplefilter(\"ignore\", category=RuntimeWarning)\n",
    "        stddev = plot_regression(winding, parameters, m, save = True, filename = f'plot/regression/{protid}')\n",
    "        std_d[protid] = stddev\n",
    "        cutoff_d[protid] = tuple(parameters.astype('int'))\n",
    "\n",
    "with open('pickles/cutoff_d.pickle', 'wb') as handle:\n",
    "    pickle.dump(cutoff_d, handle)\n",
    "with open('pickles/std_d.pickle', 'wb') as handle:\n",
    "    pickle.dump(std_d, handle)    "
   ]
  },
  {
   "cell_type": "code",
   "execution_count": null,
   "metadata": {},
   "outputs": [],
   "source": [
    "'''alternative to previous cell: load dictionary from pickles'''\n",
    "\n",
    "# with open('pickles/cutoff_d.pickle', 'rb') as handle:\n",
    "#     cutoff_d = pickle.load(handle)    \n",
    "# with open('pickles/std_d.pickle', 'rb') as handle:\n",
    "#     std_d = pickle.load(handle)    "
   ]
  },
  {
   "cell_type": "code",
   "execution_count": 81,
   "metadata": {},
   "outputs": [
    {
     "data": {
      "text/plain": [
       "(array([17., 19., 33., 14., 15., 14., 13., 10., 11.,  4.,  6.,  2.,  3.,\n",
       "         1.,  2.,  0.,  0.,  0.,  0.,  1.,  0.,  0.,  0.,  1.,  1.,  0.,\n",
       "         2.,  1.,  1.,  0.,  1.,  0.,  0.,  0.,  2.,  0.,  0.,  0.,  0.,\n",
       "         0.,  1.,  0.,  0.,  0.,  0.,  1.,  0.,  0.,  0.,  1.]),\n",
       " array([0.0491697 , 0.09330121, 0.13743271, 0.18156422, 0.22569573,\n",
       "        0.26982724, 0.31395875, 0.35809026, 0.40222176, 0.44635327,\n",
       "        0.49048478, 0.53461629, 0.5787478 , 0.6228793 , 0.66701081,\n",
       "        0.71114232, 0.75527383, 0.79940534, 0.84353685, 0.88766835,\n",
       "        0.93179986, 0.97593137, 1.02006288, 1.06419439, 1.10832589,\n",
       "        1.1524574 , 1.19658891, 1.24072042, 1.28485193, 1.32898343,\n",
       "        1.37311494, 1.41724645, 1.46137796, 1.50550947, 1.54964098,\n",
       "        1.59377248, 1.63790399, 1.6820355 , 1.72616701, 1.77029852,\n",
       "        1.81443002, 1.85856153, 1.90269304, 1.94682455, 1.99095606,\n",
       "        2.03508757, 2.07921907, 2.12335058, 2.16748209, 2.2116136 ,\n",
       "        2.25574511]),\n",
       " <BarContainer object of 50 artists>)"
      ]
     },
     "execution_count": 81,
     "metadata": {},
     "output_type": "execute_result"
    },
    {
     "data": {
      "image/png": "[encoded data removed]",
      "text/plain": [
       "<Figure size 640x480 with 1 Axes>"
      ]
     },
     "metadata": {},
     "output_type": "display_data"
    }
   ],
   "source": [
    "#visualize distribution of standard deviations to determine which regressions turned out badly and require multi-breakpoint\n",
    "plt.hist(list(std_d.values()), bins = 50)"
   ]
  },
  {
   "cell_type": "code",
   "execution_count": 87,
   "metadata": {},
   "outputs": [],
   "source": [
    "#run 4-breakpoint regression and save plots folder\n",
    "multi_parameters = {}\n",
    "for protid in protlist:\n",
    "    if std_d[protid] > .7:\n",
    "        preX = get_backbone_from_pdb(f'pdb/{protid}.pdb')\n",
    "        a, b = cutoff_d[protid]\n",
    "        winding, m, parameters = multi_regression(preX, a, b)\n",
    "        plot_regression_multi(winding, parameters, m, filename = f'plot/piecewise_multi/{protid}', save = True)\n",
    "# with open('pickles/multi_parameters.pickle', 'wb') as handle:\n",
    "#     pickle.dump(multi_parameters, handle)       "
   ]
  },
  {
   "cell_type": "code",
   "execution_count": null,
   "metadata": {},
   "outputs": [],
   "source": []
  }
 ],
 "metadata": {
  "kernelspec": {
   "display_name": "base",
   "language": "python",
   "name": "python3"
  },
  "language_info": {
   "codemirror_mode": {
    "name": "ipython",
    "version": 3
   },
   "file_extension": ".py",
   "mimetype": "text/x-python",
   "name": "python",
   "nbconvert_exporter": "python",
   "pygments_lexer": "ipython3",
   "version": "3.9.13"
  },
  "orig_nbformat": 4
 },
 "nbformat": 4,
 "nbformat_minor": 2
}
