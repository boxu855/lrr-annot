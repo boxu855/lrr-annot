{
 "cells": [
  {
   "cell_type": "code",
   "execution_count": null,
   "metadata": {},
   "outputs": [],
   "source": [
    "break\n",
    "\n",
    "mismatches = []\n",
    "prefix = []\n",
    "\n",
    "with open(\"protein/mismatch_col-0_nlrome.fasta\", \"w\") as output_handle:\n",
    "    for counter, (tairid, uniid) in enumerate(uniprot_d.items()):\n",
    "        parser = PDBParser()\n",
    "        if isfile('afdb/AF-%s-F1-model_v4.pdb'%uniid):\n",
    "            structure = parser.get_structure(uniid, 'afdb/AF-%s-F1-model_v4.pdb'%uniid)\n",
    "        elif isfile('afdb/AF-%s-F1-model_v4.pdb.gz'%uniid):\n",
    "            subprocess.run(['gunzip', 'afdb/AF-%s-F1-model_v4.pdb.gz'%uniid])\n",
    "        else:\n",
    "            raise Exception(uniid)\n",
    "            \n",
    "        chain = list(structure.get_chains())[0]\n",
    "\n",
    "        pdbseq = ''\n",
    "\n",
    "        for residue in chain.get_residues():\n",
    "            # resseq = residue.get_full_id()[3][1]\n",
    "            pdbseq += seq1(residue.get_resname())\n",
    "            # alpha_carbons.append(np.array(list(residue[\"CA\"].get_vector())))\n",
    "        fastseq = str(get_fasta_record('protein/corr.Athaliana.protein.fasta', 'ATHALIANA_'+tairid.replace('.', '_')).seq)\n",
    "        if fastseq!=pdbseq+'*':\n",
    "            if fastseq.startswith(pdbseq):\n",
    "                prefix.append((tairid, uniid))\n",
    "            else:\n",
    "                print(tairid, uniid, counter)\n",
    "                print(pdbseq)\n",
    "                print(fastseq)\n",
    "                mismatches.append((tairid, uniid))\n",
    "\n",
    "                record = SeqRecord(Seq(pdbseq))\n",
    "                record.id = uniid\n",
    "                record.description = ''\n",
    "                SeqIO.write(record, output_handle, \"fasta\")"
   ]
  },
  {
   "cell_type": "code",
   "execution_count": null,
   "metadata": {},
   "outputs": [],
   "source": [
    "with open(\"protein/mismatch_col-0_nlrome.fasta\", \"r\") as f:\n"
   ]
  }
 ],
 "metadata": {
  "language_info": {
   "name": "python"
  },
  "orig_nbformat": 4
 },
 "nbformat": 4,
 "nbformat_minor": 2
}
