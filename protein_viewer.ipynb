{
 "cells": [
  {
   "cell_type": "code",
   "execution_count": 5,
   "metadata": {},
   "outputs": [],
   "source": [
    "import nglview as nv\n",
    "from Bio.PDB import *\n",
    "\n",
    "import pickle\n",
    "import pandas as pd"
   ]
  },
  {
   "cell_type": "code",
   "execution_count": 2,
   "metadata": {},
   "outputs": [],
   "source": [
    "with open('pickles/cutoff_d.pickle', 'rb') as handle:\n",
    "    cutoff_d = pickle.load(handle)"
   ]
  },
  {
   "cell_type": "code",
   "execution_count": 7,
   "metadata": {},
   "outputs": [],
   "source": [
    "#collect lrrpredictor outputs into a dictionary\n",
    "df = pd.read_csv('LRRPredictor_output/col-0-nlrome.txt', delimiter = '\\t')\n",
    "motifs_d = {}\n",
    "for protid in cutoff_d:\n",
    "    motifs = []\n",
    "    foundProtein = False\n",
    "    for ii in range(len(df)):\n",
    "        if '.'.join(df['annotation'][ii].split('_')[1:]) == protid:\n",
    "            foundProtein = True\n",
    "        elif foundProtein:            \n",
    "            break\n",
    "        if foundProtein:\n",
    "            motifs.append(int(df['start'][ii]))\n",
    "    motifs_d[protid] = motifs"
   ]
  },
  {
   "cell_type": "code",
   "execution_count": 9,
   "metadata": {},
   "outputs": [
    {
     "data": {
      "application/vnd.jupyter.widget-view+json": {
       "model_id": "691566e447a841798c316156b4267ae1",
       "version_major": 2,
       "version_minor": 0
      },
      "text/plain": [
       "NGLWidget()"
      ]
     },
     "metadata": {},
     "output_type": "display_data"
    }
   ],
   "source": [
    "protid = 'AT3G44630.3'\n",
    "pdb_parser = PDBParser()\n",
    "structure = pdb_parser.get_structure(protid, f\"pdb/{protid}.pdb\")\n",
    "\n",
    "# chain = list(list(structure.get_models())[0].get_chains())[0]\n",
    "\n",
    "a, b = cutoff_d[protid]\n",
    "\n",
    "scheme = []\n",
    "prev = 0\n",
    "nonmotifcolor = 'green'\n",
    "motifcolor = 'red'\n",
    "for motif in [pos for pos in motifs_d[protid] if pos <b]:\n",
    "    scheme += [[nonmotifcolor, f\"{prev}-{motif-1}\"], [motifcolor, f\"{motif}-{motif}\"]]\n",
    "    prev = motif+1\n",
    "if motif < b:\n",
    "    scheme.append([nonmotifcolor, f\"{prev}-{b}\"])\n",
    "\n",
    "nv.color.ColormakerRegistry.add_selection_scheme(\n",
    "    \"my_custom_scheme\", scheme\n",
    ")\n",
    "\n",
    "view = nv.show_biopython(structure, default_representation=False)\n",
    "view.add_cartoon(color=\"my_custom_scheme\")\n",
    "view.center()\n",
    "view"
   ]
  }
 ],
 "metadata": {
  "kernelspec": {
   "display_name": "base",
   "language": "python",
   "name": "python3"
  },
  "language_info": {
   "codemirror_mode": {
    "name": "ipython",
    "version": 3
   },
   "file_extension": ".py",
   "mimetype": "text/x-python",
   "name": "python",
   "nbconvert_exporter": "python",
   "pygments_lexer": "ipython3",
   "version": "3.9.13"
  },
  "orig_nbformat": 4
 },
 "nbformat": 4,
 "nbformat_minor": 2
}
