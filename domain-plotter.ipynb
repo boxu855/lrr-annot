{
 "cells": [
  {
   "cell_type": "code",
   "execution_count": 28,
   "metadata": {},
   "outputs": [
    {
     "data": {
      "image/png": "[encoded data removed]",
      "text/plain": [
       "<Figure size 1000x200 with 1 Axes>"
      ]
     },
     "metadata": {},
     "output_type": "display_data"
    }
   ],
   "source": [
    "import matplotlib.pyplot as plt\n",
    "import matplotlib.patches as patches\n",
    "\n",
    "# Set up the figure and axis\n",
    "fig, ax = plt.subplots(figsize=(10,2))\n",
    "\n",
    "# Draw a line representing the protein\n",
    "protein_length = 1007\n",
    "plt.plot([0, protein_length], [0, 0], color='black')\n",
    "\n",
    "# Define the domains\n",
    "domains = [(46, 210), (231, 445), (611, 859)]\n",
    "colors = ['orange', 'red', 'green']\n",
    "\n",
    "\n",
    "# Draw the domains\n",
    "rectheight = .1\n",
    "for domain, color in zip(domains, colors):\n",
    "    start, end = domain\n",
    "    rect = patches.Rectangle((start, -rectheight/2), end - start, rectheight, facecolor=color)\n",
    "    ax.add_patch(rect)\n",
    "\n",
    "# Adjust the limits and labels of the plot\n",
    "\n",
    "plt.xlim(0, protein_length)\n",
    "plt.ylim(-2*rectheight, rectheight*2)  # Adjusted to match the new figure height\n",
    "plt.yticks([])\n",
    "\n",
    "# Show the plot\n",
    "plt.show()"
   ]
  },
  {
   "cell_type": "code",
   "execution_count": 29,
   "metadata": {},
   "outputs": [
    {
     "data": {
      "image/png": "[encoded data removed]",
      "text/plain": [
       "<Figure size 1000x200 with 1 Axes>"
      ]
     },
     "metadata": {},
     "output_type": "display_data"
    }
   ],
   "source": [
    "import matplotlib.pyplot as plt\n",
    "import matplotlib.patches as patches\n",
    "\n",
    "# Set up the figure and axis\n",
    "fig, ax = plt.subplots(figsize=(10,2))\n",
    "\n",
    "# Draw a line representing the protein\n",
    "protein_length = 1183\n",
    "plt.plot([0, protein_length], [0, 0], color='black')\n",
    "\n",
    "# Define the domains\n",
    "domains = [(13, 182), (200, 429), (528, 1037)]\n",
    "colors = ['orange', 'red', 'green']\n",
    "\n",
    "\n",
    "# Draw the domains\n",
    "rectheight = .1\n",
    "for domain, color in zip(domains, colors):\n",
    "    start, end = domain\n",
    "    rect = patches.Rectangle((start, -rectheight/2), end - start, rectheight, facecolor=color)\n",
    "    ax.add_patch(rect)\n",
    "\n",
    "# Adjust the limits and labels of the plot\n",
    "\n",
    "plt.xlim(0, protein_length)\n",
    "plt.ylim(-2*rectheight, rectheight*2)  # Adjusted to match the new figure height\n",
    "plt.yticks([])\n",
    "\n",
    "# Show the plot\n",
    "plt.show()"
   ]
  },
  {
   "cell_type": "code",
   "execution_count": null,
   "metadata": {},
   "outputs": [],
   "source": []
  }
 ],
 "metadata": {
  "kernelspec": {
   "display_name": "base",
   "language": "python",
   "name": "python3"
  },
  "language_info": {
   "codemirror_mode": {
    "name": "ipython",
    "version": 3
   },
   "file_extension": ".py",
   "mimetype": "text/x-python",
   "name": "python",
   "nbconvert_exporter": "python",
   "pygments_lexer": "ipython3",
   "version": "3.9.13"
  },
  "orig_nbformat": 4
 },
 "nbformat": 4,
 "nbformat_minor": 2
}
